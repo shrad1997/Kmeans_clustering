{
  "nbformat": 4,
  "nbformat_minor": 0,
  "metadata": {
    "colab": {
      "name": "Kmeans_crime.ipynb",
      "provenance": [],
      "collapsed_sections": [],
      "authorship_tag": "ABX9TyPqyjidtCEGrD4lVE/+l+Cf",
      "include_colab_link": true
    },
    "kernelspec": {
      "name": "python3",
      "display_name": "Python 3"
    },
    "language_info": {
      "name": "python"
    }
  },
  "cells": [
    {
      "cell_type": "markdown",
      "metadata": {
        "id": "view-in-github",
        "colab_type": "text"
      },
      "source": [
        "<a href=\"https://colab.research.google.com/github/shrad1997/Kmeans_clustering/blob/main/Kmeans_crime.ipynb\" target=\"_parent\"><img src=\"https://colab.research.google.com/assets/colab-badge.svg\" alt=\"Open In Colab\"/></a>"
      ]
    },
    {
      "cell_type": "code",
      "metadata": {
        "id": "agA72zilx_t6"
      },
      "source": [
        "import pandas as pd\n",
        "import matplotlib.pylab as plt\n",
        "from sklearn.cluster import KMeans\n",
        "import numpy as np\n"
      ],
      "execution_count": 88,
      "outputs": []
    },
    {
      "cell_type": "code",
      "metadata": {
        "id": "I8TIr6zAyM9T"
      },
      "source": [
        "df=pd.read_csv(\"/content/crime_data.csv\")"
      ],
      "execution_count": 89,
      "outputs": []
    },
    {
      "cell_type": "code",
      "metadata": {
        "colab": {
          "base_uri": "https://localhost:8080/",
          "height": 203
        },
        "id": "0FfZPGvgyfcW",
        "outputId": "979d82b0-a599-4b04-f536-d6f9b2f48074"
      },
      "source": [
        "df.head(5)"
      ],
      "execution_count": 90,
      "outputs": [
        {
          "output_type": "execute_result",
          "data": {
            "text/html": [
              "<div>\n",
              "<style scoped>\n",
              "    .dataframe tbody tr th:only-of-type {\n",
              "        vertical-align: middle;\n",
              "    }\n",
              "\n",
              "    .dataframe tbody tr th {\n",
              "        vertical-align: top;\n",
              "    }\n",
              "\n",
              "    .dataframe thead th {\n",
              "        text-align: right;\n",
              "    }\n",
              "</style>\n",
              "<table border=\"1\" class=\"dataframe\">\n",
              "  <thead>\n",
              "    <tr style=\"text-align: right;\">\n",
              "      <th></th>\n",
              "      <th>Unnamed: 0</th>\n",
              "      <th>Murder</th>\n",
              "      <th>Assault</th>\n",
              "      <th>UrbanPop</th>\n",
              "      <th>Rape</th>\n",
              "    </tr>\n",
              "  </thead>\n",
              "  <tbody>\n",
              "    <tr>\n",
              "      <th>0</th>\n",
              "      <td>Alabama</td>\n",
              "      <td>13.2</td>\n",
              "      <td>236</td>\n",
              "      <td>58</td>\n",
              "      <td>21.2</td>\n",
              "    </tr>\n",
              "    <tr>\n",
              "      <th>1</th>\n",
              "      <td>Alaska</td>\n",
              "      <td>10.0</td>\n",
              "      <td>263</td>\n",
              "      <td>48</td>\n",
              "      <td>44.5</td>\n",
              "    </tr>\n",
              "    <tr>\n",
              "      <th>2</th>\n",
              "      <td>Arizona</td>\n",
              "      <td>8.1</td>\n",
              "      <td>294</td>\n",
              "      <td>80</td>\n",
              "      <td>31.0</td>\n",
              "    </tr>\n",
              "    <tr>\n",
              "      <th>3</th>\n",
              "      <td>Arkansas</td>\n",
              "      <td>8.8</td>\n",
              "      <td>190</td>\n",
              "      <td>50</td>\n",
              "      <td>19.5</td>\n",
              "    </tr>\n",
              "    <tr>\n",
              "      <th>4</th>\n",
              "      <td>California</td>\n",
              "      <td>9.0</td>\n",
              "      <td>276</td>\n",
              "      <td>91</td>\n",
              "      <td>40.6</td>\n",
              "    </tr>\n",
              "  </tbody>\n",
              "</table>\n",
              "</div>"
            ],
            "text/plain": [
              "   Unnamed: 0  Murder  Assault  UrbanPop  Rape\n",
              "0     Alabama    13.2      236        58  21.2\n",
              "1      Alaska    10.0      263        48  44.5\n",
              "2     Arizona     8.1      294        80  31.0\n",
              "3    Arkansas     8.8      190        50  19.5\n",
              "4  California     9.0      276        91  40.6"
            ]
          },
          "metadata": {},
          "execution_count": 90
        }
      ]
    },
    {
      "cell_type": "code",
      "metadata": {
        "id": "CIODb2U6yjy3"
      },
      "source": [
        "df.rename(columns = {'Unnamed: 0':'US_State'},inplace=True)"
      ],
      "execution_count": 91,
      "outputs": []
    },
    {
      "cell_type": "code",
      "metadata": {
        "colab": {
          "base_uri": "https://localhost:8080/",
          "height": 203
        },
        "id": "5OraXv2Wy_rQ",
        "outputId": "b9ff4e83-636b-4d59-cf4e-1d8ff5c7c1de"
      },
      "source": [
        "df.head(5)"
      ],
      "execution_count": 92,
      "outputs": [
        {
          "output_type": "execute_result",
          "data": {
            "text/html": [
              "<div>\n",
              "<style scoped>\n",
              "    .dataframe tbody tr th:only-of-type {\n",
              "        vertical-align: middle;\n",
              "    }\n",
              "\n",
              "    .dataframe tbody tr th {\n",
              "        vertical-align: top;\n",
              "    }\n",
              "\n",
              "    .dataframe thead th {\n",
              "        text-align: right;\n",
              "    }\n",
              "</style>\n",
              "<table border=\"1\" class=\"dataframe\">\n",
              "  <thead>\n",
              "    <tr style=\"text-align: right;\">\n",
              "      <th></th>\n",
              "      <th>US_State</th>\n",
              "      <th>Murder</th>\n",
              "      <th>Assault</th>\n",
              "      <th>UrbanPop</th>\n",
              "      <th>Rape</th>\n",
              "    </tr>\n",
              "  </thead>\n",
              "  <tbody>\n",
              "    <tr>\n",
              "      <th>0</th>\n",
              "      <td>Alabama</td>\n",
              "      <td>13.2</td>\n",
              "      <td>236</td>\n",
              "      <td>58</td>\n",
              "      <td>21.2</td>\n",
              "    </tr>\n",
              "    <tr>\n",
              "      <th>1</th>\n",
              "      <td>Alaska</td>\n",
              "      <td>10.0</td>\n",
              "      <td>263</td>\n",
              "      <td>48</td>\n",
              "      <td>44.5</td>\n",
              "    </tr>\n",
              "    <tr>\n",
              "      <th>2</th>\n",
              "      <td>Arizona</td>\n",
              "      <td>8.1</td>\n",
              "      <td>294</td>\n",
              "      <td>80</td>\n",
              "      <td>31.0</td>\n",
              "    </tr>\n",
              "    <tr>\n",
              "      <th>3</th>\n",
              "      <td>Arkansas</td>\n",
              "      <td>8.8</td>\n",
              "      <td>190</td>\n",
              "      <td>50</td>\n",
              "      <td>19.5</td>\n",
              "    </tr>\n",
              "    <tr>\n",
              "      <th>4</th>\n",
              "      <td>California</td>\n",
              "      <td>9.0</td>\n",
              "      <td>276</td>\n",
              "      <td>91</td>\n",
              "      <td>40.6</td>\n",
              "    </tr>\n",
              "  </tbody>\n",
              "</table>\n",
              "</div>"
            ],
            "text/plain": [
              "     US_State  Murder  Assault  UrbanPop  Rape\n",
              "0     Alabama    13.2      236        58  21.2\n",
              "1      Alaska    10.0      263        48  44.5\n",
              "2     Arizona     8.1      294        80  31.0\n",
              "3    Arkansas     8.8      190        50  19.5\n",
              "4  California     9.0      276        91  40.6"
            ]
          },
          "metadata": {},
          "execution_count": 92
        }
      ]
    },
    {
      "cell_type": "code",
      "metadata": {
        "colab": {
          "base_uri": "https://localhost:8080/"
        },
        "id": "-MbJDu0CzM_m",
        "outputId": "b8ab201e-2439-4029-d8d1-41bafa05e22b"
      },
      "source": [
        "df.info()"
      ],
      "execution_count": 93,
      "outputs": [
        {
          "output_type": "stream",
          "name": "stdout",
          "text": [
            "<class 'pandas.core.frame.DataFrame'>\n",
            "RangeIndex: 50 entries, 0 to 49\n",
            "Data columns (total 5 columns):\n",
            " #   Column    Non-Null Count  Dtype  \n",
            "---  ------    --------------  -----  \n",
            " 0   US_State  50 non-null     object \n",
            " 1   Murder    50 non-null     float64\n",
            " 2   Assault   50 non-null     int64  \n",
            " 3   UrbanPop  50 non-null     int64  \n",
            " 4   Rape      50 non-null     float64\n",
            "dtypes: float64(2), int64(2), object(1)\n",
            "memory usage: 2.1+ KB\n"
          ]
        }
      ]
    },
    {
      "cell_type": "code",
      "metadata": {
        "id": "FcpDJ6mHzPtq"
      },
      "source": [
        "def norm_func(i):\n",
        "    x = (i-i.min()) / (i.max() - i.min())\n",
        "    return (x)"
      ],
      "execution_count": 94,
      "outputs": []
    },
    {
      "cell_type": "code",
      "metadata": {
        "id": "5I_68B7SzqbO"
      },
      "source": [
        "df_norm = norm_func(df.iloc[:,1:])"
      ],
      "execution_count": 95,
      "outputs": []
    },
    {
      "cell_type": "code",
      "metadata": {
        "colab": {
          "base_uri": "https://localhost:8080/",
          "height": 357
        },
        "id": "EI0H4bbNzujQ",
        "outputId": "548603af-bb15-479a-9bb6-20f31e69e54f"
      },
      "source": [
        "df_norm.head(10)"
      ],
      "execution_count": 96,
      "outputs": [
        {
          "output_type": "execute_result",
          "data": {
            "text/html": [
              "<div>\n",
              "<style scoped>\n",
              "    .dataframe tbody tr th:only-of-type {\n",
              "        vertical-align: middle;\n",
              "    }\n",
              "\n",
              "    .dataframe tbody tr th {\n",
              "        vertical-align: top;\n",
              "    }\n",
              "\n",
              "    .dataframe thead th {\n",
              "        text-align: right;\n",
              "    }\n",
              "</style>\n",
              "<table border=\"1\" class=\"dataframe\">\n",
              "  <thead>\n",
              "    <tr style=\"text-align: right;\">\n",
              "      <th></th>\n",
              "      <th>Murder</th>\n",
              "      <th>Assault</th>\n",
              "      <th>UrbanPop</th>\n",
              "      <th>Rape</th>\n",
              "    </tr>\n",
              "  </thead>\n",
              "  <tbody>\n",
              "    <tr>\n",
              "      <th>0</th>\n",
              "      <td>0.746988</td>\n",
              "      <td>0.654110</td>\n",
              "      <td>0.440678</td>\n",
              "      <td>0.359173</td>\n",
              "    </tr>\n",
              "    <tr>\n",
              "      <th>1</th>\n",
              "      <td>0.554217</td>\n",
              "      <td>0.746575</td>\n",
              "      <td>0.271186</td>\n",
              "      <td>0.961240</td>\n",
              "    </tr>\n",
              "    <tr>\n",
              "      <th>2</th>\n",
              "      <td>0.439759</td>\n",
              "      <td>0.852740</td>\n",
              "      <td>0.813559</td>\n",
              "      <td>0.612403</td>\n",
              "    </tr>\n",
              "    <tr>\n",
              "      <th>3</th>\n",
              "      <td>0.481928</td>\n",
              "      <td>0.496575</td>\n",
              "      <td>0.305085</td>\n",
              "      <td>0.315245</td>\n",
              "    </tr>\n",
              "    <tr>\n",
              "      <th>4</th>\n",
              "      <td>0.493976</td>\n",
              "      <td>0.791096</td>\n",
              "      <td>1.000000</td>\n",
              "      <td>0.860465</td>\n",
              "    </tr>\n",
              "    <tr>\n",
              "      <th>5</th>\n",
              "      <td>0.427711</td>\n",
              "      <td>0.544521</td>\n",
              "      <td>0.779661</td>\n",
              "      <td>0.811370</td>\n",
              "    </tr>\n",
              "    <tr>\n",
              "      <th>6</th>\n",
              "      <td>0.150602</td>\n",
              "      <td>0.222603</td>\n",
              "      <td>0.762712</td>\n",
              "      <td>0.098191</td>\n",
              "    </tr>\n",
              "    <tr>\n",
              "      <th>7</th>\n",
              "      <td>0.307229</td>\n",
              "      <td>0.660959</td>\n",
              "      <td>0.677966</td>\n",
              "      <td>0.219638</td>\n",
              "    </tr>\n",
              "    <tr>\n",
              "      <th>8</th>\n",
              "      <td>0.879518</td>\n",
              "      <td>0.993151</td>\n",
              "      <td>0.813559</td>\n",
              "      <td>0.635659</td>\n",
              "    </tr>\n",
              "    <tr>\n",
              "      <th>9</th>\n",
              "      <td>1.000000</td>\n",
              "      <td>0.568493</td>\n",
              "      <td>0.474576</td>\n",
              "      <td>0.478036</td>\n",
              "    </tr>\n",
              "  </tbody>\n",
              "</table>\n",
              "</div>"
            ],
            "text/plain": [
              "     Murder   Assault  UrbanPop      Rape\n",
              "0  0.746988  0.654110  0.440678  0.359173\n",
              "1  0.554217  0.746575  0.271186  0.961240\n",
              "2  0.439759  0.852740  0.813559  0.612403\n",
              "3  0.481928  0.496575  0.305085  0.315245\n",
              "4  0.493976  0.791096  1.000000  0.860465\n",
              "5  0.427711  0.544521  0.779661  0.811370\n",
              "6  0.150602  0.222603  0.762712  0.098191\n",
              "7  0.307229  0.660959  0.677966  0.219638\n",
              "8  0.879518  0.993151  0.813559  0.635659\n",
              "9  1.000000  0.568493  0.474576  0.478036"
            ]
          },
          "metadata": {},
          "execution_count": 96
        }
      ]
    },
    {
      "cell_type": "code",
      "metadata": {
        "colab": {
          "base_uri": "https://localhost:8080/",
          "height": 513
        },
        "id": "iRSJRI_jzxk_",
        "outputId": "5009c169-d452-46b5-84bd-c1e81556dfed"
      },
      "source": [
        "#Elbow method\n",
        "from sklearn.cluster import KMeans\n",
        "fig = plt.figure(figsize=(10, 8))\n",
        "WCSS = []\n",
        "for i in range(1, 11):\n",
        "    clf = KMeans(n_clusters=i)\n",
        "    clf.fit(df_norm)\n",
        "    WCSS.append(clf.inertia_) # inertia is another name for WCSS(average)\n",
        "plt.plot(range(1, 11), WCSS)\n",
        "plt.title('The Elbow Method')\n",
        "plt.ylabel('WCSS')\n",
        "plt.xlabel('Number of Clusters')\n",
        "plt.show()"
      ],
      "execution_count": 97,
      "outputs": [
        {
          "output_type": "display_data",
          "data": {
            "image/png": "[encoded data removed]",
            "text/plain": [
              "<Figure size 720x576 with 1 Axes>"
            ]
          },
          "metadata": {
            "needs_background": "light"
          }
        }
      ]
    },
    {
      "cell_type": "code",
      "metadata": {
        "id": "Im3vFbpv0F36"
      },
      "source": [
        "clf = KMeans(n_clusters=4)\n",
        "y_kmeans = clf.fit_predict(df_norm)"
      ],
      "execution_count": 98,
      "outputs": []
    },
    {
      "cell_type": "code",
      "metadata": {
        "colab": {
          "base_uri": "https://localhost:8080/"
        },
        "id": "B2PR0oqO0YII",
        "outputId": "4fdaf86f-0556-42fd-e1ca-84b4143998a2"
      },
      "source": [
        "y_kmeans\n",
        "#clf.cluster_centers_\n",
        "clf.labels_\n"
      ],
      "execution_count": 99,
      "outputs": [
        {
          "output_type": "execute_result",
          "data": {
            "text/plain": [
              "array([2, 0, 0, 2, 0, 0, 3, 3, 0, 2, 3, 1, 0, 3, 1, 3, 1, 2, 1, 0, 3, 0,\n",
              "       1, 2, 3, 1, 1, 0, 1, 3, 0, 0, 2, 1, 3, 3, 3, 3, 3, 2, 1, 2, 0, 3,\n",
              "       1, 3, 3, 1, 1, 3], dtype=int32)"
            ]
          },
          "metadata": {},
          "execution_count": 99
        }
      ]
    },
    {
      "cell_type": "code",
      "metadata": {
        "colab": {
          "base_uri": "https://localhost:8080/",
          "height": 203
        },
        "id": "uCM0WY470gnC",
        "outputId": "6a72f594-04b8-4e69-8f1c-40e4ede68e24"
      },
      "source": [
        "md=pd.Series(y_kmeans)  # converting numpy array into pandas series object \n",
        "df['cluster_number']=md # creating a  new column and assigning it to new column \n",
        "df.head(5)"
      ],
      "execution_count": 100,
      "outputs": [
        {
          "output_type": "execute_result",
          "data": {
            "text/html": [
              "<div>\n",
              "<style scoped>\n",
              "    .dataframe tbody tr th:only-of-type {\n",
              "        vertical-align: middle;\n",
              "    }\n",
              "\n",
              "    .dataframe tbody tr th {\n",
              "        vertical-align: top;\n",
              "    }\n",
              "\n",
              "    .dataframe thead th {\n",
              "        text-align: right;\n",
              "    }\n",
              "</style>\n",
              "<table border=\"1\" class=\"dataframe\">\n",
              "  <thead>\n",
              "    <tr style=\"text-align: right;\">\n",
              "      <th></th>\n",
              "      <th>US_State</th>\n",
              "      <th>Murder</th>\n",
              "      <th>Assault</th>\n",
              "      <th>UrbanPop</th>\n",
              "      <th>Rape</th>\n",
              "      <th>cluster_number</th>\n",
              "    </tr>\n",
              "  </thead>\n",
              "  <tbody>\n",
              "    <tr>\n",
              "      <th>0</th>\n",
              "      <td>Alabama</td>\n",
              "      <td>13.2</td>\n",
              "      <td>236</td>\n",
              "      <td>58</td>\n",
              "      <td>21.2</td>\n",
              "      <td>2</td>\n",
              "    </tr>\n",
              "    <tr>\n",
              "      <th>1</th>\n",
              "      <td>Alaska</td>\n",
              "      <td>10.0</td>\n",
              "      <td>263</td>\n",
              "      <td>48</td>\n",
              "      <td>44.5</td>\n",
              "      <td>0</td>\n",
              "    </tr>\n",
              "    <tr>\n",
              "      <th>2</th>\n",
              "      <td>Arizona</td>\n",
              "      <td>8.1</td>\n",
              "      <td>294</td>\n",
              "      <td>80</td>\n",
              "      <td>31.0</td>\n",
              "      <td>0</td>\n",
              "    </tr>\n",
              "    <tr>\n",
              "      <th>3</th>\n",
              "      <td>Arkansas</td>\n",
              "      <td>8.8</td>\n",
              "      <td>190</td>\n",
              "      <td>50</td>\n",
              "      <td>19.5</td>\n",
              "      <td>2</td>\n",
              "    </tr>\n",
              "    <tr>\n",
              "      <th>4</th>\n",
              "      <td>California</td>\n",
              "      <td>9.0</td>\n",
              "      <td>276</td>\n",
              "      <td>91</td>\n",
              "      <td>40.6</td>\n",
              "      <td>0</td>\n",
              "    </tr>\n",
              "  </tbody>\n",
              "</table>\n",
              "</div>"
            ],
            "text/plain": [
              "     US_State  Murder  Assault  UrbanPop  Rape  cluster_number\n",
              "0     Alabama    13.2      236        58  21.2               2\n",
              "1      Alaska    10.0      263        48  44.5               0\n",
              "2     Arizona     8.1      294        80  31.0               0\n",
              "3    Arkansas     8.8      190        50  19.5               2\n",
              "4  California     9.0      276        91  40.6               0"
            ]
          },
          "metadata": {},
          "execution_count": 100
        }
      ]
    },
    {
      "cell_type": "code",
      "metadata": {
        "colab": {
          "base_uri": "https://localhost:8080/",
          "height": 203
        },
        "id": "2-eC6wCL0wkN",
        "outputId": "6a4f6837-4e72-431f-e41e-5dc70fd94fe9"
      },
      "source": [
        "df.iloc[:,1:5].groupby(df.cluster_number).mean()"
      ],
      "execution_count": 101,
      "outputs": [
        {
          "output_type": "execute_result",
          "data": {
            "text/html": [
              "<div>\n",
              "<style scoped>\n",
              "    .dataframe tbody tr th:only-of-type {\n",
              "        vertical-align: middle;\n",
              "    }\n",
              "\n",
              "    .dataframe tbody tr th {\n",
              "        vertical-align: top;\n",
              "    }\n",
              "\n",
              "    .dataframe thead th {\n",
              "        text-align: right;\n",
              "    }\n",
              "</style>\n",
              "<table border=\"1\" class=\"dataframe\">\n",
              "  <thead>\n",
              "    <tr style=\"text-align: right;\">\n",
              "      <th></th>\n",
              "      <th>Murder</th>\n",
              "      <th>Assault</th>\n",
              "      <th>UrbanPop</th>\n",
              "      <th>Rape</th>\n",
              "    </tr>\n",
              "    <tr>\n",
              "      <th>cluster_number</th>\n",
              "      <th></th>\n",
              "      <th></th>\n",
              "      <th></th>\n",
              "      <th></th>\n",
              "    </tr>\n",
              "  </thead>\n",
              "  <tbody>\n",
              "    <tr>\n",
              "      <th>0</th>\n",
              "      <td>10.966667</td>\n",
              "      <td>264.000000</td>\n",
              "      <td>76.500000</td>\n",
              "      <td>33.608333</td>\n",
              "    </tr>\n",
              "    <tr>\n",
              "      <th>1</th>\n",
              "      <td>3.600000</td>\n",
              "      <td>78.538462</td>\n",
              "      <td>52.076923</td>\n",
              "      <td>12.176923</td>\n",
              "    </tr>\n",
              "    <tr>\n",
              "      <th>2</th>\n",
              "      <td>13.937500</td>\n",
              "      <td>243.625000</td>\n",
              "      <td>53.750000</td>\n",
              "      <td>21.412500</td>\n",
              "    </tr>\n",
              "    <tr>\n",
              "      <th>3</th>\n",
              "      <td>5.852941</td>\n",
              "      <td>141.176471</td>\n",
              "      <td>73.647059</td>\n",
              "      <td>19.335294</td>\n",
              "    </tr>\n",
              "  </tbody>\n",
              "</table>\n",
              "</div>"
            ],
            "text/plain": [
              "                   Murder     Assault   UrbanPop       Rape\n",
              "cluster_number                                             \n",
              "0               10.966667  264.000000  76.500000  33.608333\n",
              "1                3.600000   78.538462  52.076923  12.176923\n",
              "2               13.937500  243.625000  53.750000  21.412500\n",
              "3                5.852941  141.176471  73.647059  19.335294"
            ]
          },
          "metadata": {},
          "execution_count": 101
        }
      ]
    },
    {
      "cell_type": "code",
      "metadata": {
        "colab": {
          "base_uri": "https://localhost:8080/",
          "height": 287
        },
        "id": "4Q3sBS5z5OeH",
        "outputId": "161ba268-a09e-41de-9319-098ce1c08c97"
      },
      "source": [
        "df.plot(x=\"Rape\",y =\"Assault\",c=clf.labels_,kind=\"scatter\",s=50 ,cmap=plt.cm.coolwarm) \n",
        "plt.title('Clusters using KMeans')"
      ],
      "execution_count": 102,
      "outputs": [
        {
          "output_type": "execute_result",
          "data": {
            "text/plain": [
              "Text(0.5, 1.0, 'Clusters using KMeans')"
            ]
          },
          "metadata": {},
          "execution_count": 102
        },
        {
          "output_type": "display_data",
          "data": {
            "image/png": "[encoded data removed]",
            "text/plain": [
              "<Figure size 432x288 with 2 Axes>"
            ]
          },
          "metadata": {
            "needs_background": "light"
          }
        }
      ]
    },
    {
      "cell_type": "code",
      "metadata": {
        "colab": {
          "base_uri": "https://localhost:8080/"
        },
        "id": "BWjMRWZH5hgu",
        "outputId": "9cc12042-50f4-460f-b1c3-b9354b728be9"
      },
      "source": [
        "clf.inertia_"
      ],
      "execution_count": 103,
      "outputs": [
        {
          "output_type": "execute_result",
          "data": {
            "text/plain": [
              "3.6834561535859143"
            ]
          },
          "metadata": {},
          "execution_count": 103
        }
      ]
    },
    {
      "cell_type": "code",
      "metadata": {
        "colab": {
          "base_uri": "https://localhost:8080/"
        },
        "id": "bgofZX1r5_Zu",
        "outputId": "9cc0b697-aa51-4519-a9bb-d9369c5ea688"
      },
      "source": [
        "WCSS"
      ],
      "execution_count": 104,
      "outputs": [
        {
          "output_type": "execute_result",
          "data": {
            "text/plain": [
              "[13.184122550256445,\n",
              " 6.596893867946198,\n",
              " 5.019054546630203,\n",
              " 3.6834561535859143,\n",
              " 3.223208055249011,\n",
              " 2.832298575033044,\n",
              " 2.6330675873593195,\n",
              " 2.386427212759915,\n",
              " 2.041240986072492,\n",
              " 1.8868593980999946]"
            ]
          },
          "metadata": {},
          "execution_count": 104
        }
      ]
    },
    {
      "cell_type": "code",
      "metadata": {
        "id": "CSmfUJLi6AqI"
      },
      "source": [
        ""
      ],
      "execution_count": 104,
      "outputs": []
    }
  ]
}